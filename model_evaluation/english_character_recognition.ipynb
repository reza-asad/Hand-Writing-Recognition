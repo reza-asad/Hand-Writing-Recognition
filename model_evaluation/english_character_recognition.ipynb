{
 "cells": [
  {
   "cell_type": "code",
   "execution_count": 1,
   "metadata": {
    "collapsed": false
   },
   "outputs": [
    {
     "name": "stdout",
     "output_type": "stream",
     "text": [
      "Populating the interactive namespace from numpy and matplotlib\n"
     ]
    }
   ],
   "source": [
    "# imports\n",
    "import pandas as pd\n",
    "from pandas import DataFrame, Series\n",
    "import numpy as np\n",
    "import matplotlib.pyplot as plt\n",
    "import time\n",
    "import seaborn\n",
    "import os\n",
    "import string\n",
    "from PIL import Image\n",
    "\n",
    "%pylab inline"
   ]
  },
  {
   "cell_type": "code",
   "execution_count": 2,
   "metadata": {
    "collapsed": false
   },
   "outputs": [],
   "source": [
    "# Create a mapping from the image files to the character they represents\n",
    "character_list = list(string.digits + string.ascii_uppercase + string.ascii_lowercase)\n",
    "nums = range(1,len(character_list)+1)\n",
    "file_to_character = dict(zip(nums, character_list))"
   ]
  },
  {
   "cell_type": "code",
   "execution_count": 10,
   "metadata": {
    "collapsed": false
   },
   "outputs": [],
   "source": [
    "# Take the median size of the images as the standard_size for \n",
    "# normalization of the images\n",
    "path = '/home/reza/MachineLearning/Hand-Writing-Recognition/data/English/img/'\n",
    "img_sizes = []\n",
    "for folder in os.listdir(path):\n",
    "    for img_file in os.listdir(path+'/'+folder+'/'):\n",
    "        img = Image.open(path+'/'+folder+'/'+img_file)\n",
    "        img_sizes.append(img.size)\n",
    "\n",
    "# resize function only takes int values\n",
    "STANDARD_SIZE = map(int, median(img_sizes, axis=0))"
   ]
  },
  {
   "cell_type": "code",
   "execution_count": 6,
   "metadata": {
    "collapsed": false
   },
   "outputs": [],
   "source": [
    "# Create an image class that allows us to represent the image in matrix or vector from\n",
    "class img():\n",
    "    def __init__(self, img_file=None, img_path=None):\n",
    "        if img_file is None or img_path is None:\n",
    "            raise Exception('Must give an image file as input along'\n",
    "                            'with its file name')\n",
    "        self.img_matrix = None\n",
    "        self.img_vector = None\n",
    "        self.img_label = None\n",
    "        self.img_file = img_file\n",
    "        self.img_path = img_path\n",
    "        \n",
    "    def img_to_matrix(self):\n",
    "        \"\"\"\n",
    "        Extract a matrix representation of the image\n",
    "        \"\"\"\n",
    "        # Resize the image to a standard size\n",
    "        img_resized = self.img_file.resize(STANDARD_SIZE)\n",
    "        self.img_matrix = array(img_resized)\n",
    "\n",
    "    def flatten_image(self):\n",
    "        \"\"\"\n",
    "        Flatten the matrix representation of the image. If the\n",
    "        matrix has shape (m, n) then the vector representation\n",
    "        has shape (1, m * n)\n",
    "        \"\"\"\n",
    "        if self.img_matrix is None:\n",
    "            self.img_to_matrix()\n",
    "        s = self.img_matrix.shape[0] * self.img_matrix.shape[1]\n",
    "        self.img_vector = self.img_matrix.reshape(1, s)[0]\n",
    "\n",
    "    def get_img_label(self):\n",
    "        \"\"\"\"\n",
    "        Sets the label for the image file, i.e, the English\n",
    "        character the image is showing\n",
    "        \"\"\"\n",
    "        file_name = self.img_path.split('/')[-1][3:6]\n",
    "        self.img_label = file_to_character[int(file_name)]\n",
    "        \n",
    "# img1 = img(img_file=img_file, img_path='blahblah/im-001')\n",
    "# img1.img_label\n",
    "# img1.img_to_matrix()\n",
    "# print img1.img_matrix\n",
    "# img1.flatten_image()\n",
    "# img1.img_vector\n",
    "# img1.get_img_label()\n",
    "# img1.img_label\n"
   ]
  },
  {
   "cell_type": "code",
   "execution_count": 7,
   "metadata": {
    "collapsed": false
   },
   "outputs": [],
   "source": [
    "# Gather features of the image for building the training data\n",
    "path = '/home/reza/MachineLearning/Hand-Writing-Recognition/data/English/img/'\n",
    "data = []\n",
    "labels = []\n",
    "for folder in os.listdir(path):\n",
    "    for img_file in os.listdir(path+'/'+folder+'/'):\n",
    "        img_file = Image.open(path+'/'+folder+'/'+img_file)\n",
    "        img_path = img_file.filename\n",
    "        img_file = img_file.convert('L')\n",
    "        \n",
    "        # Open in the image file\n",
    "#         img_file = img_file.convert(\"L\").filter(ImageFilter.GaussianBlur(radius = 2))\n",
    "        curr_img = img(img_file=img_file, img_path=img_path)\n",
    "        \n",
    "        # Take a vectore representation of the image\n",
    "        curr_img.flatten_image()\n",
    "        data.append(curr_img.img_vector)\n",
    "        \n",
    "        # add the label\n",
    "        curr_img.get_img_label()\n",
    "        labels.append(curr_img.img_label)\n",
    "\n",
    "data = np.array(data)"
   ]
  },
  {
   "cell_type": "code",
   "execution_count": 8,
   "metadata": {
    "collapsed": false
   },
   "outputs": [
    {
     "name": "stderr",
     "output_type": "stream",
     "text": [
      "/home/reza/anaconda2/lib/python2.7/site-packages/ipykernel/__main__.py:20: SettingWithCopyWarning: \n",
      "A value is trying to be set on a copy of a slice from a DataFrame\n",
      "\n",
      "See the caveats in the documentation: http://pandas.pydata.org/pandas-docs/stable/indexing.html#indexing-view-versus-copy\n"
     ]
    }
   ],
   "source": [
    "from sklearn.decomposition import PCA\n",
    "from sklearn.ensemble import RandomForestClassifier\n",
    "from sklearn.neighbors import KNeighborsClassifier\n",
    "from sklearn import cross_validation\n",
    "from sklearn.cross_validation import cross_val_score\n",
    "from sklearn import svm\n",
    "\n",
    "# Create the training data\n",
    "pca = PCA(n_components=50)\n",
    "X = pca.fit_transform(data)\n",
    "df = DataFrame(X)\n",
    "response = 'label'\n",
    "df[response] = labels\n",
    "\n",
    "# Divide data to test and train\n",
    "mask = np.random.rand(len(df)) < 0.85\n",
    "train_dat = df[mask]\n",
    "test_dat = df[~mask]\n",
    "y_test = np.array(test_dat[response])\n",
    "test_dat.drop(response, axis=1, inplace=True)\n"
   ]
  },
  {
   "cell_type": "code",
   "execution_count": 9,
   "metadata": {
    "collapsed": false
   },
   "outputs": [
    {
     "data": {
      "text/plain": [
       "0.42517605633802819"
      ]
     },
     "execution_count": 9,
     "metadata": {},
     "output_type": "execute_result"
    }
   ],
   "source": [
    "# Run random forest on the train model and pick the number\n",
    "# of trees used for the model\n",
    "rf = RandomForestClassifier(n_estimators=1000, oob_score=True)\n",
    "rf.fit(train_dat.drop(response, axis=1), train_dat[response])\n",
    "prediction = rf.predict(test_dat)\n",
    "\n",
    "# Check error percentage on the test set and tune parameters\n",
    "mean(prediction != y_test)"
   ]
  },
  {
   "cell_type": "code",
   "execution_count": 124,
   "metadata": {
    "collapsed": false
   },
   "outputs": [
    {
     "data": {
      "text/plain": [
       "array(['N'], dtype=object)"
      ]
     },
     "execution_count": 124,
     "metadata": {},
     "output_type": "execute_result"
    }
   ],
   "source": [
    "# Lets test this on a sample image\n",
    "path = '/home/reza/Downloads/test.jpg'\n",
    "img_file = Image.open(path)\n",
    "img_path = img_file.filename\n",
    "img_file = img_file.convert('L')\n",
    "        \n",
    "# Open in the image file\n",
    "img_file = img_file.convert(\"L\").filter(ImageFilter.GaussianBlur(radius = 2))\n",
    "curr_img = img(img_file=img_file, img_path=img_path)\n",
    "        \n",
    "# Take a vectore representation of the image\n",
    "curr_img.flatten_image()\n",
    "test_point = pca.transform(curr_img.img_vector)\n",
    "\n",
    "# Predict the label for the test point\n",
    "rf.predict(test_point)"
   ]
  },
  {
   "cell_type": "code",
   "execution_count": 55,
   "metadata": {
    "collapsed": false
   },
   "outputs": [
    {
     "data": {
      "image/png": "[encoded data removed]",
      "text/plain": [
       "<PIL.Image.Image image mode=L size=225x225 at 0x7FB70BB56F10>"
      ]
     },
     "execution_count": 55,
     "metadata": {},
     "output_type": "execute_result"
    }
   ],
   "source": [
    "from PIL import ImageFilter\n",
    "img_file.filter(ImageFilter.SHARPEN)\n"
   ]
  },
  {
   "cell_type": "markdown",
   "metadata": {},
   "source": [
    "## Using a different Dataset for Handwriting Recognition"
   ]
  },
  {
   "cell_type": "code",
   "execution_count": 3,
   "metadata": {
    "collapsed": false,
    "scrolled": true
   },
   "outputs": [],
   "source": [
    "# Read the symbols in the data\n",
    "path = '/home/reza/MachineLearning/Hand-Writing-Recognition/data/coordinate/'\n",
    "symbols = pd.read_csv(path+'symbols.csv', error_bad_lines=False, delimiter=';')\n",
    "\n",
    "# Create a mapping from the symbol to the character it represents\n",
    "id_to_char = dict(zip(symbols.symbol_id.astype(str), symbols.latex))"
   ]
  },
  {
   "cell_type": "code",
   "execution_count": 4,
   "metadata": {
    "collapsed": false
   },
   "outputs": [],
   "source": [
    "import csv\n",
    "import json\n",
    "\n",
    "# Create a dictionary with keys alphanumeric characters\n",
    "# and values strokes. Each stroc consists of a set of \n",
    "# (x,y,t) coordinates\n",
    "recordings = []\n",
    "with open(path+'train-data.csv', 'rb') as csvfile:\n",
    "    data = csv.reader(csvfile, delimiter=';')\n",
    "    next(data, None)\n",
    "    for row in data:\n",
    "        symbol = id_to_char[row[0]]\n",
    "        if symbol.isalnum():\n",
    "            record = dict()\n",
    "            record[symbol] = json.loads(row[2])\n",
    "            recordings.append(record)"
   ]
  },
  {
   "cell_type": "code",
   "execution_count": 2,
   "metadata": {
    "collapsed": false
   },
   "outputs": [],
   "source": [
    "# Find the distribution distance between strokes\n",
    "def find_dist(x,y):\n",
    "    x = np.array([x['x'], x['y']])\n",
    "    y = np.array([y['x'], y['y']])\n",
    "    return sqrt(sum((x-y)**2))\n",
    "    \n"
   ]
  },
  {
   "cell_type": "code",
   "execution_count": null,
   "metadata": {
    "collapsed": true
   },
   "outputs": [],
   "source": [
    "stroke_dist = []\n",
    "for record in recordings:\n",
    "    strokes = record[record.keys()[0]]\n",
    "    for i in range(1, len(strokes)):\n",
    "        # current point\n",
    "        s_curr = strokes[i][0]\n",
    "        \n",
    "        # previous point\n",
    "        s_prev = strokes[i-1][-1]\n",
    "        stroke_dist.append(find_dist(s_curr, s_prev))\n"
   ]
  },
  {
   "cell_type": "code",
   "execution_count": 222,
   "metadata": {
    "collapsed": false
   },
   "outputs": [
    {
     "data": {
      "text/plain": [
       "(array([ 203.,  210.,  385.,  393.,  352.,  193.,   86.,   37.,   10.,    5.]),\n",
       " array([   0.        ,   36.49657492,   72.99314984,  109.48972476,\n",
       "         145.98629967,  182.48287459,  218.97944951,  255.47602443,\n",
       "         291.97259935,  328.46917427,  364.96574918]),\n",
       " <a list of 10 Patch objects>)"
      ]
     },
     "execution_count": 222,
     "metadata": {},
     "output_type": "execute_result"
    },
    {
     "data": {
      "image/png": "[encoded data removed]",
      "text/plain": [
       "<matplotlib.figure.Figure at 0x7f2cc84a11d0>"
      ]
     },
     "metadata": {},
     "output_type": "display_data"
    }
   ],
   "source": [
    "# Plot the distribution of distance between strokes\n",
    "plt.xlabel('Distance Between Strokes')\n",
    "plt.hist(stroke_dist)"
   ]
  },
  {
   "cell_type": "code",
   "execution_count": 223,
   "metadata": {
    "collapsed": false
   },
   "outputs": [
    {
     "name": "stdout",
     "output_type": "stream",
     "text": [
      "There are %4.64247598719 of the strokes with distance less than 10\n"
     ]
    }
   ],
   "source": [
    "# Find some stats on distance between strokes\n",
    "threshold = 10\n",
    "percent_low_dist = len(filter(lambda x: x < threshold, stroke_dist))/float(len(stroke_dist)) * 100\n",
    "print 'There are %{} of the strokes with distance less than {}'.format(percent_low_dist, threshold)"
   ]
  },
  {
   "cell_type": "code",
   "execution_count": 437,
   "metadata": {
    "collapsed": true
   },
   "outputs": [],
   "source": [
    "# Find the distribution of speed betweeen consecutive points\n",
    "points_speed = []\n",
    "for record in recordings:\n",
    "    strokes = record[record.keys()[0]]\n",
    "    for stroke in strokes:\n",
    "        for i in range(1, len(stroke)):\n",
    "            speed = find_dist(stroke[i], stroke[i-1])/float(stroke[i]['time'])\n",
    "            points_speed.append(speed)\n",
    "            "
   ]
  },
  {
   "cell_type": "code",
   "execution_count": 445,
   "metadata": {
    "collapsed": false
   },
   "outputs": [
    {
     "data": {
      "text/plain": [
       "(array([  3.23520000e+05,   1.10000000e+01,   1.00000000e+00,\n",
       "          0.00000000e+00,   0.00000000e+00,   0.00000000e+00,\n",
       "          0.00000000e+00,   0.00000000e+00,   0.00000000e+00]),\n",
       " array([0, 1, 2, 3, 4, 5, 6, 7, 8, 9]),\n",
       " <a list of 9 Patch objects>)"
      ]
     },
     "execution_count": 445,
     "metadata": {},
     "output_type": "execute_result"
    },
    {
     "data": {
      "image/png": "[encoded data removed]",
      "text/plain": [
       "<matplotlib.figure.Figure at 0x7f2cb6e38dd0>"
      ]
     },
     "metadata": {},
     "output_type": "display_data"
    }
   ],
   "source": [
    "# Plot the distribution of the speed between consecutive points\n",
    "plt.hist(points_speed, bins=range(10))"
   ]
  },
  {
   "cell_type": "code",
   "execution_count": 254,
   "metadata": {
    "collapsed": true
   },
   "outputs": [],
   "source": [
    "# Find the distribution of number of strokes\n",
    "num_strokes = []\n",
    "for record in recordings:\n",
    "    num_strokes.append(len(record[record.keys()[0]]))"
   ]
  },
  {
   "cell_type": "code",
   "execution_count": 255,
   "metadata": {
    "collapsed": false
   },
   "outputs": [
    {
     "data": {
      "text/plain": [
       "(array([  2.68400000e+03,   1.13900000e+03,   2.95000000e+02,\n",
       "          0.00000000e+00,   2.90000000e+01,   5.00000000e+00,\n",
       "          0.00000000e+00,   5.00000000e+00,   1.00000000e+00,\n",
       "          1.00000000e+00]),\n",
       " array([ 1. ,  1.7,  2.4,  3.1,  3.8,  4.5,  5.2,  5.9,  6.6,  7.3,  8. ]),\n",
       " <a list of 10 Patch objects>)"
      ]
     },
     "execution_count": 255,
     "metadata": {},
     "output_type": "execute_result"
    },
    {
     "data": {
      "image/png": "[encoded data removed]",
      "text/plain": [
       "<matplotlib.figure.Figure at 0x7fbe7f157110>"
      ]
     },
     "metadata": {},
     "output_type": "display_data"
    }
   ],
   "source": [
    "# Plot the distribution of number of strokes\n",
    "plt.hist(num_strokes)"
   ]
  },
  {
   "cell_type": "code",
   "execution_count": 464,
   "metadata": {
    "collapsed": false
   },
   "outputs": [
    {
     "name": "stdout",
     "output_type": "stream",
     "text": [
      "There are %0.0 of the control points with distance greater than 3\n"
     ]
    }
   ],
   "source": [
    "# Find some stats on distance between strokes\n",
    "threshold = 3\n",
    "percent_low_dist = len(filter(lambda x: x > threshold, points_speed))/float(len(stroke_dist)) * 100\n",
    "print 'There are %{} of the control points with distance greater than {}'.format(percent_low_dist, threshold)"
   ]
  },
  {
   "cell_type": "code",
   "execution_count": 3,
   "metadata": {
    "collapsed": true
   },
   "outputs": [],
   "source": [
    "from scipy.interpolate import interp1d\n",
    "from collections import Counter\n",
    "\n",
    "# Some configuration needed for modifying the drawing record\n",
    "FACTOR_CORRECTION = 0.00001\n",
    "STOROKE_CONNECT_THERESHOLD=10\n",
    "SMOOTHING_WEIGHT = 1.0/3\n",
    "DEHOOK_THRESHOLD = 3\n",
    "DEHOOK_ANGLE_THRESHOLD_BEG = 50\n",
    "DEHOOK_ANGLE_THRESHOLD_END = 50\n",
    "RESAMPLING_STROKE_THRESHOLD = 4\n",
    "NUM_RESAMPLE = 3000\n",
    "STROKE_PARTITION = 30\n",
    "STROKE_PARTITION_CURV = 10\n",
    "NUM_STROKES_AS_FEATURE = 4"
   ]
  },
  {
   "cell_type": "code",
   "execution_count": 4,
   "metadata": {
    "collapsed": false,
    "scrolled": false
   },
   "outputs": [],
   "source": [
    "# Create a class drawing_record that has methods to\n",
    "# handle each record (scaling, resampling, feature extraction)\n",
    "class drawing_record():\n",
    "    def  __init__(self, strokes):\n",
    "        self.strokes = strokes\n",
    "        self.features = []\n",
    "        self.sample_stroke = []\n",
    "        self.mint, self.minx, self.miny= [float('inf')]*3\n",
    "        self.maxx, self.maxy = [float('-inf')]*2\n",
    "    \n",
    "    def remov_None_strokes(self):\n",
    "        \"\"\"\n",
    "        Clean the strokes from None values\n",
    "        \"\"\"\n",
    "        self.strokes = filter(lambda stroke: stroke is not None, self.strokes)\n",
    "    \n",
    "    def wild_filter(self):\n",
    "        \"\"\"\n",
    "        Remove points with high speed (caused by hardware error)\n",
    "        \"\"\"\n",
    "        pass\n",
    "        \n",
    "    def stroke_connect(self):\n",
    "        \"\"\"\n",
    "        Connects two srokes if the distance betwen them\n",
    "        is unusualy close\n",
    "        \"\"\"\n",
    "        # If there is only one stroke do nothing\n",
    "        if len(self.strokes) < 2:\n",
    "            return\n",
    "        \n",
    "        connected = []\n",
    "        i, n = 0, len(self.strokes)\n",
    "        while i < n:\n",
    "            temp = self.strokes[i]\n",
    "            while i+1<n and find_dist(temp[-1], self.strokes[i+1][0]) < STOROKE_CONNECT_THERESHOLD:\n",
    "                temp = temp + self.strokes[i+1]\n",
    "                i+=1\n",
    "            connected.append(temp)\n",
    "            i += 1\n",
    "        self.strokes = connected \n",
    "    \n",
    "    def dehook(self, beg=False, end=False):\n",
    "        \"\"\"\n",
    "        Removes hooks at the begining or end of a stroke\n",
    "        \"\"\"\n",
    "        if not beg and not end:\n",
    "            print 'Dehooking was not done, set beg or end to True'\n",
    "            return\n",
    "        # Given three points p0,p1,p2 in order, it calculates\n",
    "        # the angle between p_10 and p_21\n",
    "        def calculate_angle(points):\n",
    "            # Return euclidean distance between two points\n",
    "            def diff(v,w):\n",
    "                v = np.array([v['x'], v['y']])\n",
    "                w = np.array([w['x'], w['y']])\n",
    "                return v-w\n",
    "            p_10 = diff(points[0], points[1])\n",
    "            p_21 = diff(points[1], points[2])\n",
    "            # Find the cosine of the angle\n",
    "            cos_angle = float(p_10.dot(p_21))/((sqrt(p_10.dot(p_10)) + \n",
    "                                                FACTOR_CORRECTION) * \n",
    "                                               (sqrt(p_21.dot(p_21)) +\n",
    "                                                FACTOR_CORRECTION))\n",
    "            angle = arccos(cos_angle) * 180/pi\n",
    "            return angle\n",
    "        \n",
    "        # Dehooks at the begining\n",
    "        def dehook_stroke_beg(index):\n",
    "            three_points = self.strokes[i][index:index+3]\n",
    "            if len(three_points) < DEHOOK_THRESHOLD:\n",
    "                return\n",
    "            if calculate_angle(three_points) < DEHOOK_ANGLE_THRESHOLD_BEG:\n",
    "                return self.strokes[i][index:]\n",
    "            else:\n",
    "                return dehook_stroke_beg(index+1)\n",
    "\n",
    "        # Dehooks at the end\n",
    "        def dehook_stroke_end(index):\n",
    "            three_points = self.strokes[i][index-2:index] + [self.strokes[i][index]]\n",
    "            if len(three_points) < DEHOOK_THRESHOLD:\n",
    "                return\n",
    "            if calculate_angle(three_points) < DEHOOK_ANGLE_THRESHOLD_END:\n",
    "                return self.strokes[i][:index] + [self.strokes[i][index]]\n",
    "            else:\n",
    "                return dehook_stroke_end(index-1)\n",
    "        \n",
    "        for i, stroke in enumerate(self.strokes):\n",
    "            if beg:\n",
    "                dehook_beg = dehook_stroke_beg(0)\n",
    "                if dehook_beg is not None:\n",
    "                    self.strokes[i] = dehook_beg\n",
    "            if end:\n",
    "                dehook_end = dehook_stroke_end(-1)\n",
    "                if dehook_end is not None:\n",
    "                    self.strokes[i] = dehook_end\n",
    "    \n",
    "    def average_smoothing(self):\n",
    "        \"\"\"\n",
    "        Smooths every stroke using a weighted average.\n",
    "        \"\"\"\n",
    "        smoothened = []\n",
    "        for stroke in self.strokes:\n",
    "            smoothened.append([stroke[0]])\n",
    "            for i in range(1, len(stroke)-1):\n",
    "                p = {'time':0, 'x':0, 'y':0}\n",
    "                for point in [stroke[i-1], stroke[i], stroke[i+1]]:\n",
    "                    p['time'] += point['time']\n",
    "                    p['x'] += point['x']\n",
    "                    p['y'] += point['y']\n",
    "                p = dict(map(lambda (x,y): (x,int(round(y*SMOOTHING_WEIGHT,2))),\n",
    "                             p.items()))\n",
    "                smoothened[-1].append(p)\n",
    "            smoothened[-1].append(stroke[-1])\n",
    "        self.strokes = smoothened\n",
    "        \n",
    "    def find_bounding_box(self):\n",
    "        \"\"\"\n",
    "        Find the bounding box of the drawing character\n",
    "        \"\"\"\n",
    "        for stroke in self.strokes:\n",
    "            for point in stroke:\n",
    "                if point['time'] < self.mint:\n",
    "                    self.mint = point['time']\n",
    "                if point['x'] < self.minx:\n",
    "                    self.minx = point['x']\n",
    "                if point['y'] < self.miny:\n",
    "                    self.miny = point['y']\n",
    "                if point['x'] > self.maxx:\n",
    "                    self.maxx = point['x']\n",
    "                if point['y'] > self.maxy:\n",
    "                    self.maxy = point['y']\n",
    "\n",
    "    def scale_shift(self):\n",
    "        \"\"\"\n",
    "        Scale and shif the coordinates of the drawing.\n",
    "        Only the smaller dimension gets centered\n",
    "        \"\"\"\n",
    "        self.find_bounding_box()\n",
    "        for stroke in self.strokes:\n",
    "            for point in stroke:\n",
    "                width = (self.maxx-self.minx) + FACTOR_CORRECTION\n",
    "                height = (self.maxy-self.miny) + FACTOR_CORRECTION\n",
    "                fx = 1.0/width\n",
    "                fy = 1.0/height\n",
    "                f = min(fx,fy)\n",
    "                add = min(width, height)/2.0 * f\n",
    "                addx, addy = 0, 0\n",
    "                if f == fx:\n",
    "                    addx = add\n",
    "                else:\n",
    "                    addy = add\n",
    "                point['x'] = (point['x'] - self.minx) * f - addx\n",
    "                point['y'] = (point['y'] - self.miny) * f - addy\n",
    "                point['time'] = point['time'] - self.mint\n",
    "\n",
    "    def resample(self):\n",
    "        \"\"\"\n",
    "        Use interpolation to fill in the missing x and y\n",
    "        values.\n",
    "        \"\"\"\n",
    "        resampled = []\n",
    "        for stroke in self.strokes:\n",
    "            if len(stroke) < RESAMPLING_STROKE_THRESHOLD:\n",
    "                continue\n",
    "            resampled.append([])\n",
    "            x, y, t = [], [], []\n",
    "            for point in stroke:\n",
    "                x.append(point['x'])\n",
    "                y.append(point['y'])\n",
    "                t.append(point['time'])\n",
    "            f_x = interp1d(t, x)\n",
    "            f_y = interp1d(t, y, kind='cubic')\n",
    "            time_interval = linspace(t[0], t[-1], num=NUM_RESAMPLE)\n",
    "            for t_ in time_interval:\n",
    "                p = {'time':0, 'x':0, 'y':0}\n",
    "                p['time'] = t_\n",
    "                p['x'] = float(f_x(t_))\n",
    "                p['y'] = float(f_y(t_))\n",
    "                resampled[-1].append(p)\n",
    "        self.strokes = resampled\n",
    "    def plot_drawing(self, strokes):\n",
    "        x_val = []\n",
    "        y_val = []\n",
    "        for stroke in strokes:\n",
    "            for point in stroke:\n",
    "                x_val.append(point['x'])\n",
    "                y_val.append(-point['y'])\n",
    "        plt.scatter(x_val, y_val, s=200, alpha=0.4)\n",
    "        plt.show(block=False)\n",
    "    \n",
    "    def extract_local_features(self):\n",
    "        \"\"\"\n",
    "        This takes some global features from the drawing; e.g\n",
    "        the coordinates, the curvature, recurvature.\n",
    "        \"\"\"\n",
    "        # Finds the height of a stroke\n",
    "        def stroke_height(x,y):\n",
    "            return sqrt((x[0]-x[-1])**2 + (y[0]-y[-1])**2)\n",
    "        # Finds the length of a stroke\n",
    "        def stroke_length(x,y):\n",
    "            return sum(sqrt(np.diff(x,1)**2+np.diff(y,1)**2)) \n",
    "        features = []\n",
    "        for i, stroke in enumerate(self.strokes):\n",
    "            if i < NUM_STROKES_AS_FEATURE:\n",
    "                # This takes a sample of x,y coordinates uniformly from the stroke\n",
    "                x_feature = map(lambda point: point['x'], stroke[::len(stroke)/STROKE_PARTITION])\n",
    "                y_feature = map(lambda point: point['y'], stroke[::len(stroke)/STROKE_PARTITION])\n",
    "                features = features + x_feature + y_feature\n",
    "                \n",
    "                # Add recurvature; i.e, the height of the stroke divided\n",
    "                # by the length of the stroke\n",
    "                x = map(lambda point: point['x'], stroke)\n",
    "                y = map(lambda point: point['y'], stroke) \n",
    "                height = stroke_height(x,y)\n",
    "                length = stroke_length(x,y)\n",
    "                features += [height/length]\n",
    "                \n",
    "                # Add the length of the stroke as a feature\n",
    "                features += [length]\n",
    "                \n",
    "                # This is only for plotting purposes\n",
    "                self.sample_stroke.append(stroke[::len(stroke)/STROKE_PARTITION])\n",
    "                \n",
    "        num_features = ((STROKE_PARTITION) * 2 + 2) * NUM_STROKES_AS_FEATURE\n",
    "        if len(features) != num_features:\n",
    "            features = features + [0] * (num_features - len(features))\n",
    "        self.features = features\n",
    "    def extract_global_features(self):\n",
    "        \"\"\"\n",
    "        This takes some global features from the drawing; e.g\n",
    "        the total number of strokes, aspect ratio.\n",
    "        \"\"\"\n",
    "        # Add the number of strokes as a feature\n",
    "        self.features += [len(self.strokes)]\n",
    "        \n",
    "        # Add the aspect ratio as a feature\n",
    "        aspect_ratio = float((self.maxx-self.minx))/(self.maxy-self.miny+FACTOR_CORRECTION)\n",
    "        self.features += [aspect_ratio]\n",
    "                \n",
    "# num = 312\n",
    "# dr = drawing_record(recordings[num][recordings[num].keys()[0]])\n",
    "# dr.remov_None_strokes()\n",
    "# dr.plot_drawing(dr.strokes)\n",
    "# dr.stroke_connect()\n",
    "# dr.dehook(beg=True, end=True)\n",
    "# dr.average_smoothing()\n",
    "# dr.resample()\n",
    "# # dr.scale_shift()\n",
    "# dr.plot_drawing(dr.strokes)\n",
    "# dr.extract_local_features()\n",
    "# dr.extract_global_features()\n",
    "# len(dr.features)\n",
    "# # dr.plot_drawing(dr.strokes)\n",
    "# dr.plot_drawing(dr.sample_stroke)\n",
    "\n",
    "# len(dr.features)"
   ]
  },
  {
   "cell_type": "code",
   "execution_count": 12,
   "metadata": {
    "collapsed": false,
    "scrolled": true
   },
   "outputs": [
    {
     "data": {
      "text/plain": [
       "Counter({1: 2703, 2: 1160, 3: 274, 4: 14, 5: 4, 6: 3, 7: 1})"
      ]
     },
     "execution_count": 12,
     "metadata": {},
     "output_type": "execute_result"
    },
    {
     "data": {
      "image/png": "[encoded data removed]",
      "text/plain": [
       "<matplotlib.figure.Figure at 0x7f10a8a00350>"
      ]
     },
     "metadata": {},
     "output_type": "display_data"
    }
   ],
   "source": [
    "# Find the distribution of number of strokes after\n",
    "# removing None strokes and performing stroke connect\n",
    "num_strokes = []\n",
    "for record in recordings:\n",
    "    dr = drawing_record(record[record.keys()[0]])\n",
    "    dr.remov_None_strokes()\n",
    "    dr.stroke_connect()\n",
    "    num_strokes.append(len(dr.strokes))\n",
    "\n",
    "# Plot the distribution of number of strokes\n",
    "plt.hist(num_strokes)\n",
    "Counter(num_strokes)"
   ]
  },
  {
   "cell_type": "code",
   "execution_count": 5,
   "metadata": {
    "collapsed": false,
    "scrolled": false
   },
   "outputs": [],
   "source": [
    "# This preprocesses the data\n",
    "num_features = ((STROKE_PARTITION) * 2 + 2) * NUM_STROKES_AS_FEATURE + 2\n",
    "def preprocess_data(recordings, with_label=False):\n",
    "    features = []\n",
    "    labels = []\n",
    "    for i, record in enumerate(recordings):\n",
    "        dr = drawing_record(record[record.keys()[0]])\n",
    "        if len(dr.strokes) > NUM_STROKES_AS_FEATURE:\n",
    "            continue\n",
    "        dr.remov_None_strokes()\n",
    "        dr.stroke_connect()\n",
    "        dr.dehook(beg=True, end=True)\n",
    "        dr.average_smoothing()\n",
    "        try:\n",
    "            dr.resample()\n",
    "        except LinAlgError:\n",
    "            print i\n",
    "        dr.scale_shift()\n",
    "        dr.extract_local_features()\n",
    "        dr.extract_global_features()\n",
    "        if len(dr.features) != num_features:\n",
    "            print i\n",
    "        if np.isnan(dr.features).any():\n",
    "            print 'nan value found', i\n",
    "            continue\n",
    "        labels.append(record.keys()[0])\n",
    "        features.append(dr.features)\n",
    "    if with_label:\n",
    "        return features, labels\n",
    "    return features, None\n",
    "# x_train, y_train = preprocess_data(recordings, with_label=True)"
   ]
  },
  {
   "cell_type": "code",
   "execution_count": 174,
   "metadata": {
    "collapsed": false
   },
   "outputs": [],
   "source": [
    "# Convert the data to a dataframe\n",
    "x_data = DataFrame(x_train)\n",
    "y_data = DataFrame(y_train)\n",
    "\n",
    "# Save the data\n",
    "x_data.to_pickle('x_data')\n",
    "y_data.to_pickle('y_data')"
   ]
  },
  {
   "cell_type": "code",
   "execution_count": 422,
   "metadata": {
    "collapsed": false
   },
   "outputs": [],
   "source": [
    "from sklearn.decomposition import PCA\n",
    "\n",
    "# Examining some feature enhancements.\n",
    "def center_scale(df):\n",
    "    # Center the data\n",
    "    df = df - df.mean(axis=0)\n",
    "    \n",
    "    # Scale the data\n",
    "    df = df / (df.max(axis=0) - df.min(axis=0))\n",
    "    \n",
    "# Project the features to the rincipal components\n",
    "def project_to_pcs(df, num_components):\n",
    "    pca = PCA(n_components=num_components)\n",
    "    return pca.fit_transform(df)\n",
    "    \n",
    "\n",
    "# Read the data\n",
    "data = pd.read_pickle('aug_xdata')\n",
    "labels = pd.read_pickle('aug_ydata')\n",
    "\n",
    "center_scale(data)\n",
    "# data = DataFrame(project_to_pcs(data,150))\n",
    "\n",
    "# Add the labels\n",
    "data['response'] = labels"
   ]
  },
  {
   "cell_type": "code",
   "execution_count": 423,
   "metadata": {
    "collapsed": false
   },
   "outputs": [],
   "source": [
    "# Some configuration parameters\n",
    "VALIDATION_FRACTION = 0.1"
   ]
  },
  {
   "cell_type": "markdown",
   "metadata": {},
   "source": [
    "## Model Evaluation\n",
    "* Random Forrest"
   ]
  },
  {
   "cell_type": "code",
   "execution_count": 435,
   "metadata": {
    "collapsed": false
   },
   "outputs": [],
   "source": [
    "from sklearn.ensemble import RandomForestClassifier\n",
    "\n",
    "# Divide train and validation set\n",
    "mask = np.random.rand(len(data)) < VALIDATION_FRACTION\n",
    "train_dat = data[~mask]\n",
    "validation_dat = data[mask]"
   ]
  },
  {
   "cell_type": "code",
   "execution_count": 17,
   "metadata": {
    "collapsed": false
   },
   "outputs": [],
   "source": [
    "# Run the random forrest model for different number of trees \n",
    "# Check the OOB error and pick the best number of trees\n",
    "tree_range = range(100, 2500, 100)\n",
    "oob_error = []\n",
    "for tree in tree_range:\n",
    "    rf = RandomForestClassifier(n_estimators=tree, oob_score=True)\n",
    "    rf.fit(train_dat.drop('response', axis=1), train_dat['response'])\n",
    "    oob_error.append(1-rf.oob_score_)\n"
   ]
  },
  {
   "cell_type": "code",
   "execution_count": 292,
   "metadata": {
    "collapsed": false
   },
   "outputs": [
    {
     "data": {
      "text/plain": [
       "[<matplotlib.lines.Line2D at 0x7f9666d45390>]"
      ]
     },
     "execution_count": 292,
     "metadata": {},
     "output_type": "execute_result"
    },
    {
     "data": {
      "image/png": "[encoded data removed]",
      "text/plain": [
       "<matplotlib.figure.Figure at 0x7f9666e34b10>"
      ]
     },
     "metadata": {},
     "output_type": "display_data"
    }
   ],
   "source": [
    "# Plot the OOB Error rate versus different number of trees\n",
    "plt.xlabel('Number of Trees')\n",
    "plt.ylabel('OOB Error')\n",
    "plt.plot(tree_range, oob_error)"
   ]
  },
  {
   "cell_type": "code",
   "execution_count": null,
   "metadata": {
    "collapsed": false
   },
   "outputs": [],
   "source": [
    "# Run the random forrest model using the best number of trees\n",
    "# On the validation set\n",
    "rf = RandomForestClassifier(n_estimators=1000, oob_score=True)\n",
    "rf.fit(train_dat.drop('response', axis=1), train_dat['response'])\n",
    "prediction = rf.predict_proba(validation_dat.drop('response', axis=1))"
   ]
  },
  {
   "cell_type": "code",
   "execution_count": 428,
   "metadata": {
    "collapsed": false
   },
   "outputs": [
    {
     "name": "stdout",
     "output_type": "stream",
     "text": [
      "misclassification rate is:  0.043956043956\n"
     ]
    }
   ],
   "source": [
    "id_to_char = dict(zip(range(len(rf.classes_)), rf.classes_))\n",
    "# This returns the top x %error\n",
    "def top_x_error(prediction, true_labels, id_to_char, k=3):\n",
    "    all_top_k_chars = []\n",
    "    for row in prediction:\n",
    "        top_k_chars = sorted(range(len(row)), key=lambda x: row[x], reverse=True)[:k]\n",
    "        all_top_k_chars.append([id_to_char[e] for e in top_k_chars])\n",
    "\n",
    "    i = 0\n",
    "    for j, label in enumerate(true_labels):\n",
    "#         print list(true_labels)[j], all_top_k_chars[j]\n",
    "        if label not in set(all_top_k_chars[j]):\n",
    "            i+=1\n",
    "    print 'misclassification rate is: ', float(i)/len(true_labels)\n",
    "\n",
    "top_x_error(prediction, validation_dat['response'], id_to_char, k=3)"
   ]
  },
  {
   "cell_type": "code",
   "execution_count": 429,
   "metadata": {
    "collapsed": false
   },
   "outputs": [],
   "source": [
    "import json\n",
    "\n",
    "# Read the data from iphone simulator\n",
    "path='/home/reza/MachineLearning/Hand-Writing-Recognition/data/coordinate/'\n",
    "with open(path+'test_data.txt') as data_file:    \n",
    "    recordings = json.load(data_file)\n",
    "\n",
    "# Preprocess the data\n",
    "x_test, true_labels = preprocess_data(recordings, with_label=True)"
   ]
  },
  {
   "cell_type": "code",
   "execution_count": 434,
   "metadata": {
    "collapsed": false
   },
   "outputs": [
    {
     "name": "stdout",
     "output_type": "stream",
     "text": [
      "misclassification rate is:  0.0\n"
     ]
    }
   ],
   "source": [
    "# Convert the data to DataFrame\n",
    "test_dat = DataFrame(x_test)\n",
    "center_scale(test_dat)\n",
    "test_dat['response'] = true_labels\n",
    "\n",
    "# Predict using the rf model and check accuracy\n",
    "test_prediction = rf.predict_proba(x_test)\n",
    "top_x_error(test_prediction, true_labels,id_to_char, k=3)"
   ]
  },
  {
   "cell_type": "code",
   "execution_count": 91,
   "metadata": {
    "collapsed": false
   },
   "outputs": [
    {
     "data": {
      "text/plain": [
       "Classifier(batch_size=1, callback=None, debug=False, dropout_rate=None,\n",
       "      f_stable=0.001,\n",
       "      hidden0=<sknn.nn.Layer `Sigmoid`: units=500, name=u'hidden0', frozen=False>,\n",
       "      hidden1=<sknn.nn.Layer `Sigmoid`: units=500, name=u'hidden1', frozen=False>,\n",
       "      layers=[<sknn.nn.Layer `Sigmoid`: units=500, name=u'hidden0', frozen=False>, <sknn.nn.Layer `Sigmoid`: units=500, name=u'hidden1', frozen=False>, <sknn.nn.Layer `Softmax`: units=61, name=u'output', frozen=False>],\n",
       "      learning_momentum=0.9, learning_rate=0.01, learning_rule=u'sgd',\n",
       "      loss_type=None, n_iter=250, n_stable=10, normalize=None,\n",
       "      output=<sknn.nn.Layer `Softmax`: units=61, name=u'output', frozen=False>,\n",
       "      parameters=None, random_state=None, regularize=None, valid_set=None,\n",
       "      valid_size=0.0, verbose=None, warning=None, weight_decay=None)"
      ]
     },
     "execution_count": 91,
     "metadata": {},
     "output_type": "execute_result"
    }
   ],
   "source": [
    "from sknn.mlp import Classifier, Layer\n",
    "\n",
    "# Testing Neural Networks\n",
    "nn = Classifier(\n",
    "    layers=[\n",
    "        Layer(\"Sigmoid\", units=500),\n",
    "        Layer(\"Sigmoid\", units=500),\n",
    "        Layer(\"Softmax\")],\n",
    "    learning_rate=0.01,\n",
    "    n_iter=250)\n",
    "nn.fit(train_dat.drop('response', axis=1).as_matrix(), train_dat['response'])\n",
    "\n",
    "# nn.predict(validation_dat.drop('response', axis=1))\n",
    "# print 'misclassification rate: ', mean(y_valid != validation_dat['response'])\n",
    "# score = nn.score(X_test, y_test)"
   ]
  },
  {
   "cell_type": "code",
   "execution_count": 92,
   "metadata": {
    "collapsed": false
   },
   "outputs": [
    {
     "name": "stdout",
     "output_type": "stream",
     "text": [
      "[(397, 61)]\n",
      "misclassification rate is:  0.095717884131\n"
     ]
    }
   ],
   "source": [
    "# nn.predict(validation_dat.drop('response', axis=1))\n",
    "a = nn.predict_proba(validation_dat.drop('response', axis=1).as_matrix())\n",
    "# print 'misclassification rate: ', mean(np.array([e[0] for e in a]) != validation_dat['response'])\n",
    "id_to_char = dict(zip(range(len(nn.classes_[0])), nn.classes_[0]))\n",
    "top_x_error(a, validation_dat['response'], id_to_char, k=3)"
   ]
  },
  {
   "cell_type": "code",
   "execution_count": 412,
   "metadata": {
    "collapsed": false
   },
   "outputs": [],
   "source": [
    "# Groupby the data by the number of strokes.\n",
    "# Given each group find all the combinations of reversed and non reversed strokes\n",
    "combs = []\n",
    "def find_combinations(g):\n",
    "    temp = []\n",
    "    num_strokes = set(g[g.columns[-3]]).pop()\n",
    "    for i in range(num_strokes):\n",
    "        x_y_coord = g.columns[((STROKE_PARTITION)*2+2)*i : 60+((STROKE_PARTITION)*2+2)*i]\n",
    "        local_feat = g.columns[60+((STROKE_PARTITION)*2+2)*i : 60+((STROKE_PARTITION)*2+2)*i+2]\n",
    "        rest_feat = g.columns[((STROKE_PARTITION)*2+2)*num_strokes : ]\n",
    "        temp.append(g[list(reversed(x_y_coord))+list(local_feat)])\n",
    "        temp.append(g[list(x_y_coord)+list(local_feat)])\n",
    "    temp.append(g[rest_feat])\n",
    "    combs.append(temp)\n",
    "groups = data.groupby(248, as_index=False).aggregate(find_combinations)"
   ]
  },
  {
   "cell_type": "code",
   "execution_count": 413,
   "metadata": {
    "collapsed": false
   },
   "outputs": [],
   "source": [
    "# Create data frame for each combination of reversed and non reversed strokes\n",
    "frames = []\n",
    "for i, group in enumerate(combs):\n",
    "    for j in range(2):\n",
    "        if 2*(i+1)>2:\n",
    "            for k in range(2,4):\n",
    "                temp = pd.merge(group[j], group[k], left_index=True, right_index=True)\n",
    "                if 2*(i+1)>4:\n",
    "                    temp2 = temp.copy()\n",
    "                    for m in range(4,6):\n",
    "                        temp = pd.merge(temp2, group[m], left_index=True, right_index=True)\n",
    "                        if 2*(i+1)>6:\n",
    "                            temp3 = temp.copy()\n",
    "                            for n in range(6,8):\n",
    "                                temp= pd.merge(temp3, group[n], left_index=True, right_index=True)\n",
    "                                temp = pd.merge(temp, group[-1], left_index=True, right_index=True)\n",
    "                                frames.append(temp)\n",
    "                        else:\n",
    "                            temp = pd.merge(temp, group[-1], left_index=True, right_index=True)\n",
    "                            frames.append(temp)\n",
    "                else:\n",
    "                    temp = pd.merge(temp, group[-1], left_index=True, right_index=True)\n",
    "                    frames.append(temp)\n",
    "        else:\n",
    "            temp = pd.merge(group[j], group[-1], left_index=True, right_index=True)\n",
    "            frames.append(temp)"
   ]
  },
  {
   "cell_type": "code",
   "execution_count": 414,
   "metadata": {
    "collapsed": true
   },
   "outputs": [],
   "source": [
    "# Unify the column names\n",
    "for frame in frames:\n",
    "    frame.columns = data.columns"
   ]
  },
  {
   "cell_type": "code",
   "execution_count": 415,
   "metadata": {
    "collapsed": false,
    "scrolled": true
   },
   "outputs": [],
   "source": [
    "# augmented data\n",
    "aug_data = pd.concat(frames, ignore_index=True)"
   ]
  },
  {
   "cell_type": "code",
   "execution_count": 421,
   "metadata": {
    "collapsed": true
   },
   "outputs": [],
   "source": [
    "# Save the data into pickle\n",
    "aug_data.drop('response', axis=1).to_pickle('aug_xdata')\n",
    "aug_data.response.to_pickle('aug_ydata')"
   ]
  },
  {
   "cell_type": "code",
   "execution_count": null,
   "metadata": {
    "collapsed": false
   },
   "outputs": [],
   "source": []
  },
  {
   "cell_type": "code",
   "execution_count": null,
   "metadata": {
    "collapsed": false
   },
   "outputs": [],
   "source": []
  },
  {
   "cell_type": "code",
   "execution_count": null,
   "metadata": {
    "collapsed": true
   },
   "outputs": [],
   "source": []
  },
  {
   "cell_type": "code",
   "execution_count": null,
   "metadata": {
    "collapsed": true
   },
   "outputs": [],
   "source": []
  },
  {
   "cell_type": "code",
   "execution_count": null,
   "metadata": {
    "collapsed": true
   },
   "outputs": [],
   "source": []
  },
  {
   "cell_type": "code",
   "execution_count": null,
   "metadata": {
    "collapsed": true
   },
   "outputs": [],
   "source": []
  },
  {
   "cell_type": "code",
   "execution_count": null,
   "metadata": {
    "collapsed": true
   },
   "outputs": [],
   "source": []
  },
  {
   "cell_type": "code",
   "execution_count": null,
   "metadata": {
    "collapsed": true
   },
   "outputs": [],
   "source": []
  },
  {
   "cell_type": "code",
   "execution_count": null,
   "metadata": {
    "collapsed": true
   },
   "outputs": [],
   "source": []
  },
  {
   "cell_type": "code",
   "execution_count": null,
   "metadata": {
    "collapsed": true
   },
   "outputs": [],
   "source": []
  },
  {
   "cell_type": "code",
   "execution_count": null,
   "metadata": {
    "collapsed": true
   },
   "outputs": [],
   "source": []
  }
 ],
 "metadata": {
  "kernelspec": {
   "display_name": "Python 2",
   "language": "python",
   "name": "python2"
  },
  "language_info": {
   "codemirror_mode": {
    "name": "ipython",
    "version": 2
   },
   "file_extension": ".py",
   "mimetype": "text/x-python",
   "name": "python",
   "nbconvert_exporter": "python",
   "pygments_lexer": "ipython2",
   "version": "2.7.11"
  }
 },
 "nbformat": 4,
 "nbformat_minor": 0
}
